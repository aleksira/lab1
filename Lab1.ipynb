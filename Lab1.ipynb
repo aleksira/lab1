{
 "cells": [
  {
   "cell_type": "markdown",
   "metadata": {},
   "source": [
    "Имеется толковый словарь. Каждому слову может соответствовать несколько значений, для каждого значения должен быть как минимум один пример употребления. Разработать структуру данных для хранения словаря, его записи/чтения на диск. Слова хранить упорядоченными по алфавиту."
   ]
  },
  {
   "cell_type": "code",
   "execution_count": 10,
   "metadata": {},
   "outputs": [],
   "source": [
    "import json"
   ]
  },
  {
   "cell_type": "markdown",
   "metadata": {},
   "source": [
    "Я заранее создала псевдословарь в формате json, ниже читаю его и вывожу, чтобы было:"
   ]
  },
  {
   "cell_type": "code",
   "execution_count": 23,
   "metadata": {},
   "outputs": [],
   "source": [
    "def JsonReader(file):\n",
    "    with open(file, 'r', encoding='utf-8') as json_file:\n",
    "        thesaurus = json.load(json_file)\n",
    "    return thesaurus"
   ]
  },
  {
   "cell_type": "code",
   "execution_count": 26,
   "metadata": {},
   "outputs": [
    {
     "data": {
      "text/plain": [
       "[['a_word',\n",
       "  ['meaning1',\n",
       "   ['example1'],\n",
       "   'meaning2',\n",
       "   ['example1', 'example2', 'example3'],\n",
       "   'meaning3',\n",
       "   ['example1']]],\n",
       " ['k_word',\n",
       "  ['meaning1',\n",
       "   ['example1', 'example2'],\n",
       "   'meaning2',\n",
       "   ['example1', 'example2', 'example3']]],\n",
       " ['l_word',\n",
       "  ['meaning1',\n",
       "   ['example1', 'example2'],\n",
       "   'meaning2',\n",
       "   ['example1'],\n",
       "   'meaning3',\n",
       "   ['example1', 'example2'],\n",
       "   'meaning4',\n",
       "   ['example1']]],\n",
       " ['o_word', ['meaning1', ['example1', 'example2', 'example3']]],\n",
       " ['s_word',\n",
       "  ['meaning1',\n",
       "   ['example1', 'example2', 'example3', 'example4'],\n",
       "   'meaning2',\n",
       "   ['example1']]],\n",
       " ['u_word',\n",
       "  ['meaning1',\n",
       "   ['example1', 'example2', 'example3'],\n",
       "   'meaning2',\n",
       "   ['example1'],\n",
       "   'meaning3',\n",
       "   ['example1'],\n",
       "   'meaning4',\n",
       "   ['example1', 'example2', 'example3']]],\n",
       " ['w_word', ['meaning1', ['example1'], 'meaning2', ['example1', 'example2']]],\n",
       " ['y_word',\n",
       "  ['meaning1',\n",
       "   ['example1', 'example2'],\n",
       "   'meaning2',\n",
       "   ['example1'],\n",
       "   'meaning3',\n",
       "   ['example1', 'example2']]]]"
      ]
     },
     "execution_count": 26,
     "metadata": {},
     "output_type": "execute_result"
    }
   ],
   "source": [
    "thesaurus = JsonReader('dictionary.json')\n",
    "thesaurus"
   ]
  },
  {
   "cell_type": "markdown",
   "metadata": {},
   "source": [
    "Предположим, новое слово уже представляет собой список, нулевой элемент которого - само слово, первый - список значений (ниже пример)"
   ]
  },
  {
   "cell_type": "markdown",
   "metadata": {},
   "source": [
    "Я читаю json, добавляю новое слово в список, сортирую и делаю из него снова json, затем перезаписываю файл"
   ]
  },
  {
   "cell_type": "code",
   "execution_count": 28,
   "metadata": {},
   "outputs": [],
   "source": [
    "new_word = ['new_word', ['meaning1', ['example1', 'example2'], 'meaning2', ['example1']]]\n",
    "thesaurus = JsonReader('dictionary.json')\n",
    "thesaurus.append(new_word)\n",
    "thesaurus = sorted(thesaurus)\n",
    "thesaurus = json.dumps(thesaurus)\n",
    "with open('dictionary.json', 'w', encoding='utf-8') as json_file:\n",
    "    json_file.write(thesaurus)"
   ]
  },
  {
   "cell_type": "code",
   "execution_count": 29,
   "metadata": {},
   "outputs": [
    {
     "data": {
      "text/plain": [
       "'[[\"a_word\", [\"meaning1\", [\"example1\"], \"meaning2\", [\"example1\", \"example2\", \"example3\"], \"meaning3\", [\"example1\"]]], [\"k_word\", [\"meaning1\", [\"example1\", \"example2\"], \"meaning2\", [\"example1\", \"example2\", \"example3\"]]], [\"l_word\", [\"meaning1\", [\"example1\", \"example2\"], \"meaning2\", [\"example1\"], \"meaning3\", [\"example1\", \"example2\"], \"meaning4\", [\"example1\"]]], [\"new_word\", [\"meaning1\", [\"example1\", \"example2\"], \"meaning2\", [\"example1\"]]], [\"o_word\", [\"meaning1\", [\"example1\", \"example2\", \"example3\"]]], [\"s_word\", [\"meaning1\", [\"example1\", \"example2\", \"example3\", \"example4\"], \"meaning2\", [\"example1\"]]], [\"u_word\", [\"meaning1\", [\"example1\", \"example2\", \"example3\"], \"meaning2\", [\"example1\"], \"meaning3\", [\"example1\"], \"meaning4\", [\"example1\", \"example2\", \"example3\"]]], [\"w_word\", [\"meaning1\", [\"example1\"], \"meaning2\", [\"example1\", \"example2\"]]], [\"y_word\", [\"meaning1\", [\"example1\", \"example2\"], \"meaning2\", [\"example1\"], \"meaning3\", [\"example1\", \"example2\"]]]]'"
      ]
     },
     "execution_count": 29,
     "metadata": {},
     "output_type": "execute_result"
    }
   ],
   "source": [
    "thesaurus"
   ]
  }
 ],
 "metadata": {
  "kernelspec": {
   "display_name": "Python 3",
   "language": "python",
   "name": "python3"
  },
  "language_info": {
   "codemirror_mode": {
    "name": "ipython",
    "version": 3
   },
   "file_extension": ".py",
   "mimetype": "text/x-python",
   "name": "python",
   "nbconvert_exporter": "python",
   "pygments_lexer": "ipython3",
   "version": "3.7.4"
  }
 },
 "nbformat": 4,
 "nbformat_minor": 4
}
